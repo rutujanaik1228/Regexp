{
  "nbformat": 4,
  "nbformat_minor": 0,
  "metadata": {
    "colab": {
      "provenance": []
    },
    "kernelspec": {
      "name": "python3",
      "display_name": "Python 3"
    },
    "language_info": {
      "name": "python"
    }
  },
  "cells": [
    {
      "cell_type": "code",
      "execution_count": 10,
      "metadata": {
        "id": "bxXOQObmpXpU"
      },
      "outputs": [],
      "source": [
        "import re"
      ]
    },
    {
      "cell_type": "code",
      "source": [
        "text='''elon Mask's phone no is 8788745638. Call him if u have any dodgecoin.Tesla's revenue is 40 billion. Tesla's  CFO's no is (687)-898-9898.'''\n",
        "pattern='\\d{10}|\\(\\d{3}\\)-\\d{3}-\\d{4}'"
      ],
      "metadata": {
        "id": "Ywzf4N_wqu_v"
      },
      "execution_count": 11,
      "outputs": []
    },
    {
      "cell_type": "code",
      "source": [
        "matches=re.findall(pattern,text)\n",
        "matches"
      ],
      "metadata": {
        "colab": {
          "base_uri": "https://localhost:8080/"
        },
        "id": "auvyrcUVrDYP",
        "outputId": "0f900e4f-62ac-4ec7-83da-8c7383074b4f"
      },
      "execution_count": 37,
      "outputs": [
        {
          "output_type": "execute_result",
          "data": {
            "text/plain": [
              "['8788745638', '(687)-898-9898']"
            ]
          },
          "metadata": {},
          "execution_count": 37
        }
      ]
    },
    {
      "cell_type": "code",
      "source": [
        "t='''Note 1 – Overview\n",
        "\n",
        "Tesla, Inc. (“Tesla”, the “Company”, “we”, “us” or “our”) was incorporated in the State of Delaware on July 1, 2003. We design, develop, manufacture and sell high-performance fully electric vehicles and design, manufacture, install and sell solar energy generation and energy storage products. Our Chief Executive Officer, as the chief operating decision maker (“CODM”), organizes our company, manages resource allocations and measures performance among two operating and reportable segments: (i) automotive and (ii) energy generation and storage.\n",
        "\n",
        "There continues to be widespread impact from the COVID-19 pandemic. Beginning in the first quarter of 2021, there has been a trend in many parts of the world of increasing availability and administration of vaccines against COVID-19, as well as an easing of restrictions on social, business, travel and government activities and functions. On the other hand, infection rates and regulations continue to fluctuate in various regions and there are ongoing global impacts resulting from the pandemic, including challenges and increases in costs for logistics and supply chains, such as increased port congestion, intermittent supplier delays and a shortfall of semiconductor supply. We have been affected by temporary manufacturing closures, employment and compensation adjustments and impediments to administrative activities supporting our product deliveries and deployments.\n",
        "\n",
        "In addition, we have experienced and are experiencing varying levels of inflation resulting in part from various supply chain disruptions, increased shipping and transportation costs, increased raw material and labor costs and other disruptions caused by the COVID‐19 pandemic and general global economic conditions. The inflationary impact on our cost structure has contributed to adjustments in our product pricing, despite a continued focus on reducing our manufacturing costs where possible.\n",
        "\n",
        " \n",
        "\n",
        "Note 2 – Summary of Significant Accounting Policies\n",
        "\n",
        "Unaudited Interim Financial Statements\n",
        "\n",
        "The consolidated balance sheet as of June 30, 2022, the consolidated statements of operations, the consolidated statements of comprehensive income, the consolidated statements of redeemable noncontrolling interests and equity for the three and six months ended June 30, 2022 and 2021 and the consolidated statements of cash flows for the six months ended June 30, 2022 and 2021, as well as other information disclosed in the accompanying notes, are unaudited. The consolidated balance sheet as of December 31, 2021 was derived from the audited consolidated financial statements as of that date. The interim consolidated financial statements and the accompanying notes should be read in conjunction with the annual consolidated financial statements and the accompanying notes contained in our Annual Report on Form 10-K for the year ended December 31, 2021.\n",
        "\n",
        "The interim consolidated financial statements and the accompanying notes have been prepared on the same basis as the annual consolidated financial statements and, in the opinion of management, reflect all adjustments, which include only normal recurring adjustments, necessary for a fair statement of the results of operations for the periods presented. The consolidated results of operations for any interim period are not necessarily indicative of the results to be expected for the full year or for any other future years or interim periods.\n",
        "\n",
        "Use of Estimates\n",
        "\n",
        "The preparation of financial statements in conformity with U.S. generally accepted accounting principles (“GAAP”) requires management to make estimates and assumptions that affect the reported amounts of assets, liabilities, revenues, costs and expenses and related disclosures in the accompanying notes. \n",
        "\n",
        "Due to the COVID-19 pandemic, there has been uncertainty and disruption in the global economy and financial markets which could impact our estimates and assumptions. The estimates used for, but not limited to, determining significant economic incentive for resale value guarantee arrangements, sales return reserves, the collectability of accounts receivable, inventory valuation, warranties, fair value of long-lived assets, goodwill, fair value of financial instruments, fair value and residual value of operating lease vehicles and solar energy systems subject to leases could be impacted. We have assessed the impact and are not aware of any specific events or circumstances that required an update to our estimates and assumptions or materially affected the carrying value of our assets or liabilities as of the date of issuance of this Quarterly Report on Form 10-Q. These estimates may change as new events occur and additional information is obtained. Actual results could differ materially from these estimates under different assumptions or conditions.\n",
        "\n",
        "Reclassifications\n",
        "\n",
        "Certain prior period balances have been reclassified to conform to the current period presentation in the consolidated financial statements and the accompanying notes.\n",
        "\n",
        "'''\n",
        "p=r\"Note \\d ([^\\n]*)\"\n",
        "m=re.findall(p,t)\n",
        "m"
      ],
      "metadata": {
        "colab": {
          "base_uri": "https://localhost:8080/"
        },
        "id": "6pqQhOacvxkv",
        "outputId": "a4002f2e-3c89-47f9-fb5d-479dfd8cda7f"
      },
      "execution_count": 41,
      "outputs": [
        {
          "output_type": "execute_result",
          "data": {
            "text/plain": [
              "['– Overview', '– Summary of Significant Accounting Policies']"
            ]
          },
          "metadata": {},
          "execution_count": 41
        }
      ]
    },
    {
      "cell_type": "code",
      "source": [],
      "metadata": {
        "id": "WX8UKCtkAPNF"
      },
      "execution_count": null,
      "outputs": []
    }
  ]
}